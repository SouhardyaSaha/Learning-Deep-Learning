{
  "nbformat": 4,
  "nbformat_minor": 0,
  "metadata": {
    "colab": {
      "name": " K-Fold Cross Validation.ipynb",
      "provenance": [],
      "collapsed_sections": []
    },
    "kernelspec": {
      "name": "python388jvsc74a57bd01f584d1f2099a3b6b1aabed6fa6c4f9531bcc1f97f929a8d4f3fbf52265911e6",
      "display_name": "Python 3.8.8 64-bit ('myenv': conda)"
    },
    "language_info": {
      "name": "python",
      "version": "3.8.8-final"
    },
    "accelerator": "GPU"
  },
  "cells": [
    {
      "cell_type": "code",
      "metadata": {
        "id": "bBng3-0JOisJ"
      },
      "source": [
        "import pandas as pd"
      ],
      "execution_count": 1,
      "outputs": []
    },
    {
      "cell_type": "code",
      "metadata": {
        "id": "c7AgtGFjPtOb"
      },
      "source": [
        "# Loading the dataset\n",
        "\n",
        "dataset = pd.read_csv('Churn_Modelling.csv')\n",
        "X = dataset.iloc[: ,3:13]\n",
        "y = dataset.iloc[:,13]"
      ],
      "execution_count": 2,
      "outputs": []
    },
    {
      "cell_type": "code",
      "metadata": {
        "id": "y1kj_0cSOi4j"
      },
      "source": [
        "# Loading categorical variables\n",
        "geography = pd.get_dummies(X['Geography'], drop_first=True)\n",
        "gender = pd.get_dummies(X['Gender'], drop_first=True)\n",
        "\n",
        "# Concating categorical Variables\n",
        "X = pd.concat([X, gender, geography], axis=1)\n",
        "\n",
        "# Removing unnecessary data\n",
        "X=X.drop(['Geography', 'Gender'], axis=1)"
      ],
      "execution_count": 3,
      "outputs": []
    },
    {
      "cell_type": "code",
      "metadata": {
        "id": "ot7mmGfKNJAT"
      },
      "source": [
        "from sklearn.model_selection import train_test_split\n",
        "X_train, X_test, y_train, y_test = train_test_split(X, y, test_size=0.3, random_state=42)\n",
        "\n",
        "from sklearn.preprocessing import StandardScaler\n",
        "sc = StandardScaler()\n",
        "X_train = sc.fit_transform(X_train )\n",
        "X_test = sc.transform(X_test)        "
      ],
      "execution_count": 4,
      "outputs": []
    },
    {
      "cell_type": "code",
      "metadata": {
        "id": "cEIJydyqQNhV"
      },
      "source": [
        "# Hyperparameter Optimization\n",
        "\n",
        "import keras\n",
        "from keras.wrappers.scikit_learn import KerasClassifier\n",
        "from sklearn.model_selection import GridSearchCV, cross_val_score\n",
        "\n",
        "from keras.models import Sequential\n",
        "from keras.layers import Dense, Activation, Embedding, Flatten, LeakyReLU, BatchNormalization, Dropout\n",
        "from keras.activations import relu, sigmoid"
      ],
      "execution_count": 5,
      "outputs": []
    },
    {
      "cell_type": "code",
      "metadata": {
        "id": "z1OdjVkjQajj"
      },
      "source": [
        "# For Grid Search\n",
        "\n",
        "def create_model(layers, activation, optimizer):\n",
        "    # Initialing the model\n",
        "    model = Sequential()\n",
        "    \n",
        "    for i, nodes in enumerate(layers):\n",
        "        if(i==0):\n",
        "            model.add(Dense(nodes, activation=activation, input_dim=X_train.shape[1])) #For first input layer\n",
        "        else: \n",
        "            model.add(Dense(nodes, activation=activation)) # For hidden layers\n",
        "        # Common for input and hidden layers    \n",
        "        # model.add(Activation(activation))\n",
        "        # model.add(Dropout(0.3))\n",
        "        \n",
        "    # Output Layer\n",
        "    model.add(Dense(units=1, kernel_initializer='glorot_uniform', activation='sigmoid'))\n",
        "        \n",
        "    model.compile(optimizer=optimizer, loss='binary_crossentropy', metrics=['accuracy'])\n",
        "    \n",
        "    return model\n",
        "\n",
        "# KerasClassifier is a wrapper of k-fold Cross Validation\n",
        "model = KerasClassifier(build_fn=create_model, verbose=2)"
      ],
      "execution_count": 6,
      "outputs": []
    },
    {
      "cell_type": "code",
      "metadata": {
        "id": "ptdV-3jcQgBq"
      },
      "source": [
        "# defining parameters for Grid Search\n",
        "# layers = [(6,6)]\n",
        "# activations = [keras.activations.relu]\n",
        "# optimizers = [keras.optimizers.Adam]\n",
        "layers = [(20,), (40,20), (45,30,15),(6,6)]\n",
        "activations = ['sigmoid', 'relu']\n",
        "optimizers = [keras.optimizers.Adam(), keras.optimizers.RMSprop()]\n",
        "# optimizers = ['adam', 'rmsprop']\n",
        "param_grid = dict(\n",
        "    layers=layers, \n",
        "    activation=activations, \n",
        "    optimizer = optimizers, \n",
        "    # batch_size=[10], \n",
        "    # epochs=[30]\n",
        "    batch_size=[128, 256, 25, 32], \n",
        "    epochs=[30,100,500]\n",
        "    )"
      ],
      "execution_count": 7,
      "outputs": []
    },
    {
      "cell_type": "code",
      "metadata": {
        "id": "qFTAQsT7Qj16"
      },
      "source": [
        "grid = GridSearchCV(estimator=model, param_grid=param_grid, scoring = 'accuracy', cv=10)"
      ],
      "execution_count": 8,
      "outputs": []
    },
    {
      "cell_type": "code",
      "metadata": {
        "id": "cmk8NPgXQojC",
        "tags": [
          "outputPrepend"
        ]
      },
      "source": [
        "# Running the grid model\n",
        "grid_result = grid.fit(X_train, y_train)\n"
      ],
      "execution_count": null,
      "outputs": []
    },
    {
      "cell_type": "code",
      "metadata": {
        "colab": {
          "base_uri": "https://localhost:8080/",
          "height": 178
        },
        "id": "T5mXYipvUUyK",
        "outputId": "bd54f574-22ef-415d-8214-abb54a470e89"
      },
      "source": [
        "# Printing the grid result\n",
        "[grid_result.best_score_,grid_result.best_params_]"
      ],
      "execution_count": null,
      "outputs": []
    },
    {
      "cell_type": "code",
      "metadata": {
        "id": "dAM7YlsUQRmy"
      },
      "source": [
        "# Using Cross Validation Score\n",
        "# def build_classifier():\n",
        "#     classifier = Sequential()\n",
        "#     classifier.add(Dense(units=6, activation=\"relu\", kernel_initializer=\"he_uniform\", input_dim = 11))\n",
        "#     classifier.add(Dense(units = 6, kernel_initializer = 'he_uniform',activation='relu'))\n",
        "#     classifier.add(Dense(units = 1, kernel_initializer = 'glorot_uniform', activation = 'sigmoid'))\n",
        "#     classifier.compile(optimizer='adam', loss = 'binary_crossentropy', metrics = ['accuracy'])\n",
        "#     return classifier    \n",
        "\n",
        "# model = KerasClassifier(build_fn=build_classifier, batch_size = 10, epochs=100)\n",
        "# cvs = cross_val_score(estimator= model, X=X_train, y=y_train, cv=10, verbose=2)"
      ],
      "execution_count": null,
      "outputs": []
    }
  ]
}