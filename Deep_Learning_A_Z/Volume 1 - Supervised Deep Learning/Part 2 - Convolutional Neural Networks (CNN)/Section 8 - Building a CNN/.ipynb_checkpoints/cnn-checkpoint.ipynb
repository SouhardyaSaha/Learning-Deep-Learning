{
 "cells": [
  {
   "cell_type": "code",
   "execution_count": 20,
   "id": "antique-payday",
   "metadata": {},
   "outputs": [],
   "source": [
    "# Importing keras and packages\n",
    "import keras\n",
    "from keras.models import Sequential\n",
    "from keras.layers import Convolution2D, MaxPooling2D, Flatten, Dense, Conv2D\n",
    "from keras.preprocessing.image import ImageDataGenerator"
   ]
  },
  {
   "cell_type": "code",
   "execution_count": 21,
   "id": "extreme-composer",
   "metadata": {},
   "outputs": [],
   "source": [
    "# Initializing the cnn\n",
    "classifier = Sequential()"
   ]
  },
  {
   "cell_type": "code",
   "execution_count": 22,
   "id": "seasonal-ancient",
   "metadata": {},
   "outputs": [],
   "source": [
    "# step 1 Convolution\n",
    "classifier.add(Conv2D(32,3,3, input_shape=(64,64,3), activation = 'relu'))\n",
    "# Step 2 - Pooling\n",
    "classifier.add(MaxPooling2D(pool_size = (2,2)))"
   ]
  },
  {
   "cell_type": "code",
   "execution_count": 23,
   "id": "dressed-watershed",
   "metadata": {},
   "outputs": [],
   "source": [
    "# Adding 2nd convolution layer\n",
    "classifier.add(Conv2D(32,3,3, activation = 'relu'))\n",
    "classifier.add(MaxPooling2D(pool_size = (2,2)))"
   ]
  },
  {
   "cell_type": "code",
   "execution_count": 24,
   "id": "architectural-contract",
   "metadata": {},
   "outputs": [],
   "source": [
    "# Step 4 - Flattening our layer\n",
    "classifier.add(Flatten())"
   ]
  },
  {
   "cell_type": "code",
   "execution_count": 25,
   "id": "ecological-aurora",
   "metadata": {},
   "outputs": [],
   "source": [
    "classifier.add(Dense(units = 128, activation = 'relu'))\n",
    "classifier.add(Dense(units = 1, activation = 'sigmoid'))"
   ]
  },
  {
   "cell_type": "code",
   "execution_count": 26,
   "id": "under-judgment",
   "metadata": {},
   "outputs": [],
   "source": [
    "# classifier.compile(optimizer='adam', loss='binary_crossentropy', metrics=['accuracy'])\n",
    "classifier.compile(optimizer=keras.optimizers.Adam(), loss=keras.losses.binary_crossentropy, metrics=['accuracy'])"
   ]
  },
  {
   "cell_type": "code",
   "execution_count": 27,
   "id": "joined-capability",
   "metadata": {},
   "outputs": [
    {
     "name": "stdout",
     "output_type": "stream",
     "text": [
      "Found 8000 images belonging to 2 classes.\n",
      "Found 2000 images belonging to 2 classes.\n"
     ]
    }
   ],
   "source": [
    "# Image Augmentation\n",
    "train_datagen = ImageDataGenerator(\n",
    "        rescale=1./255,\n",
    "        shear_range=0.2,\n",
    "        zoom_range=0.2,\n",
    "        horizontal_flip=True)\n",
    "\n",
    "test_datagen = ImageDataGenerator(rescale=1./255)\n",
    "\n",
    "training_set = train_datagen.flow_from_directory(\n",
    "        'dataset/training_set',\n",
    "        target_size=(64, 64),\n",
    "        batch_size=32,\n",
    "        class_mode='binary')\n",
    "\n",
    "test_set = test_datagen.flow_from_directory(\n",
    "        'dataset/test_set',\n",
    "        target_size=(64, 64),\n",
    "        batch_size=32,\n",
    "        class_mode='binary')"
   ]
  },
  {
   "cell_type": "code",
   "execution_count": null,
   "id": "chicken-operator",
   "metadata": {},
   "outputs": [
    {
     "name": "stdout",
     "output_type": "stream",
     "text": [
      "Epoch 1/25\n",
      "250/250 [==============================] - 33s 131ms/step - loss: 0.6926 - accuracy: 0.5130 - val_loss: 0.6851 - val_accuracy: 0.5990\n",
      "Epoch 2/25\n",
      "250/250 [==============================] - 34s 135ms/step - loss: 0.6850 - accuracy: 0.5545 - val_loss: 0.6716 - val_accuracy: 0.5930\n",
      "Epoch 3/25\n",
      "250/250 [==============================] - 33s 133ms/step - loss: 0.6710 - accuracy: 0.5866 - val_loss: 0.6560 - val_accuracy: 0.6325\n",
      "Epoch 4/25\n",
      "250/250 [==============================] - 33s 131ms/step - loss: 0.6503 - accuracy: 0.6202 - val_loss: 0.6788 - val_accuracy: 0.5980\n",
      "Epoch 5/25\n",
      "250/250 [==============================] - 33s 132ms/step - loss: 0.6437 - accuracy: 0.6252 - val_loss: 0.6556 - val_accuracy: 0.6190\n",
      "Epoch 6/25\n",
      "  7/250 [..............................] - ETA: 23s - loss: 0.6265 - accuracy: 0.6473"
     ]
    }
   ],
   "source": [
    "# Running the model\n",
    "classifier.fit(\n",
    "        x = training_set,\n",
    "        epochs = 25,\n",
    "        validation_data = test_set)\n",
    "# steps_per_epoch=8000 // 32, Here 32 = batch_size\n",
    "# validation_steps=2000 // 32"
   ]
  },
  {
   "cell_type": "code",
   "execution_count": null,
   "id": "downtown-excerpt",
   "metadata": {},
   "outputs": [],
   "source": []
  },
  {
   "cell_type": "code",
   "execution_count": null,
   "id": "challenging-greensboro",
   "metadata": {},
   "outputs": [],
   "source": []
  },
  {
   "cell_type": "code",
   "execution_count": null,
   "id": "boring-cooling",
   "metadata": {},
   "outputs": [],
   "source": [
    "classifier.summary()"
   ]
  },
  {
   "cell_type": "code",
   "execution_count": null,
   "id": "external-transmission",
   "metadata": {},
   "outputs": [],
   "source": []
  }
 ],
 "metadata": {
  "kernelspec": {
   "display_name": "Python 3",
   "language": "python",
   "name": "python3"
  },
  "language_info": {
   "codemirror_mode": {
    "name": "ipython",
    "version": 3
   },
   "file_extension": ".py",
   "mimetype": "text/x-python",
   "name": "python",
   "nbconvert_exporter": "python",
   "pygments_lexer": "ipython3",
   "version": "3.8.8"
  }
 },
 "nbformat": 4,
 "nbformat_minor": 5
}
