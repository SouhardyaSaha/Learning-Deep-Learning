{
 "cells": [
  {
   "cell_type": "code",
   "execution_count": 1,
   "id": "accepted-secondary",
   "metadata": {},
   "outputs": [],
   "source": [
    "# Importing keras and packages\n",
    "import keras\n",
    "from keras.models import Sequential\n",
    "from keras.layers import Flatten, Dense, Conv2D, MaxPool2D\n",
    "from keras.preprocessing.image import ImageDataGenerator"
   ]
  },
  {
   "cell_type": "code",
   "execution_count": 2,
   "id": "interstate-cricket",
   "metadata": {},
   "outputs": [],
   "source": [
    "# Initializing the cnn\n",
    "classifier = Sequential()"
   ]
  },
  {
   "cell_type": "code",
   "execution_count": 3,
   "id": "lesser-baghdad",
   "metadata": {},
   "outputs": [],
   "source": [
    "# step 1 Convolution\n",
    "classifier.add(\n",
    "    Conv2D(filters=32, kernel_size=3, input_shape=[64, 64, 3], activation = 'relu')\n",
    ")\n",
    "# Step 2 - Pooling\n",
    "classifier.add(\n",
    "    MaxPool2D(pool_size = 2, strides = 2)\n",
    ")"
   ]
  },
  {
   "cell_type": "code",
   "execution_count": 4,
   "id": "decimal-balloon",
   "metadata": {},
   "outputs": [],
   "source": [
    "# Adding 2nd convolution layer\n",
    "classifier.add(\n",
    "    Conv2D(filters=32, kernel_size=3, activation = 'relu')\n",
    ")\n",
    "classifier.add(\n",
    "    MaxPool2D(pool_size = 2, strides = 2)\n",
    ")"
   ]
  },
  {
   "cell_type": "code",
   "execution_count": 5,
   "id": "amazing-benchmark",
   "metadata": {},
   "outputs": [],
   "source": [
    "# Step 4 - Flattening our layer\n",
    "classifier.add(Flatten())"
   ]
  },
  {
   "cell_type": "code",
   "execution_count": 6,
   "id": "hired-forum",
   "metadata": {},
   "outputs": [],
   "source": [
    "classifier.add(Dense(units = 128, activation = 'relu'))\n",
    "classifier.add(Dense(units = 1, activation = 'sigmoid'))"
   ]
  },
  {
   "cell_type": "code",
   "execution_count": 7,
   "id": "surrounded-charleston",
   "metadata": {},
   "outputs": [],
   "source": [
    "classifier.compile(optimizer='adam', loss='binary_crossentropy', metrics=['accuracy'])\n",
    "# classifier.compile(optimizer=keras.optimizers.Adam(), loss=keras.losses.binary_crossentropy, metrics=['accuracy'])"
   ]
  },
  {
   "cell_type": "code",
   "execution_count": 8,
   "id": "measured-spray",
   "metadata": {},
   "outputs": [
    {
     "name": "stdout",
     "output_type": "stream",
     "text": [
      "Found 8000 images belonging to 2 classes.\n",
      "Found 2000 images belonging to 2 classes.\n"
     ]
    }
   ],
   "source": [
    "# Image Augmentation\n",
    "train_datagen = ImageDataGenerator(\n",
    "        rescale=1./255,\n",
    "        shear_range=0.2,\n",
    "        zoom_range=0.2,\n",
    "        horizontal_flip=True)\n",
    "\n",
    "test_datagen = ImageDataGenerator(rescale=1./255)\n",
    "\n",
    "training_set = train_datagen.flow_from_directory(\n",
    "        'dataset/training_set',\n",
    "        target_size=(64, 64),\n",
    "        batch_size=32,\n",
    "        class_mode='binary')\n",
    "\n",
    "test_set = test_datagen.flow_from_directory(\n",
    "        'dataset/test_set',\n",
    "        target_size=(64, 64),\n",
    "        batch_size=32,\n",
    "        class_mode='binary')"
   ]
  },
  {
   "cell_type": "code",
   "execution_count": 9,
   "id": "numeric-sport",
   "metadata": {},
   "outputs": [
    {
     "name": "stdout",
     "output_type": "stream",
     "text": [
      "Epoch 1/25\n",
      "250/250 [==============================] - 38s 152ms/step - loss: 0.6730 - accuracy: 0.5792 - val_loss: 0.6364 - val_accuracy: 0.6445\n",
      "Epoch 2/25\n",
      "250/250 [==============================] - 38s 154ms/step - loss: 0.6310 - accuracy: 0.6518 - val_loss: 0.6328 - val_accuracy: 0.6730\n",
      "Epoch 3/25\n",
      "250/250 [==============================] - 40s 159ms/step - loss: 0.6067 - accuracy: 0.6747 - val_loss: 0.5991 - val_accuracy: 0.6825\n",
      "Epoch 4/25\n",
      "250/250 [==============================] - 38s 152ms/step - loss: 0.5702 - accuracy: 0.7013 - val_loss: 0.5645 - val_accuracy: 0.7180\n",
      "Epoch 5/25\n",
      "250/250 [==============================] - 39s 158ms/step - loss: 0.5439 - accuracy: 0.7210 - val_loss: 0.5254 - val_accuracy: 0.7375\n",
      "Epoch 6/25\n",
      "250/250 [==============================] - 38s 152ms/step - loss: 0.5239 - accuracy: 0.7359 - val_loss: 0.5187 - val_accuracy: 0.7560\n",
      "Epoch 7/25\n",
      "250/250 [==============================] - 38s 152ms/step - loss: 0.5075 - accuracy: 0.7476 - val_loss: 0.5046 - val_accuracy: 0.7660\n",
      "Epoch 8/25\n",
      "250/250 [==============================] - 38s 152ms/step - loss: 0.4960 - accuracy: 0.7610 - val_loss: 0.4893 - val_accuracy: 0.7770\n",
      "Epoch 9/25\n",
      "250/250 [==============================] - 38s 152ms/step - loss: 0.4798 - accuracy: 0.7685 - val_loss: 0.5458 - val_accuracy: 0.7435\n",
      "Epoch 10/25\n",
      "250/250 [==============================] - 38s 150ms/step - loss: 0.4592 - accuracy: 0.7822 - val_loss: 0.4759 - val_accuracy: 0.7785\n",
      "Epoch 11/25\n",
      "250/250 [==============================] - 38s 151ms/step - loss: 0.4456 - accuracy: 0.7916 - val_loss: 0.5527 - val_accuracy: 0.7550\n",
      "Epoch 12/25\n",
      "250/250 [==============================] - 38s 151ms/step - loss: 0.4276 - accuracy: 0.7964 - val_loss: 0.4840 - val_accuracy: 0.7780\n",
      "Epoch 13/25\n",
      "250/250 [==============================] - 38s 151ms/step - loss: 0.4172 - accuracy: 0.8067 - val_loss: 0.4761 - val_accuracy: 0.7935\n",
      "Epoch 14/25\n",
      "250/250 [==============================] - 38s 150ms/step - loss: 0.3990 - accuracy: 0.8216 - val_loss: 0.5012 - val_accuracy: 0.7820\n",
      "Epoch 15/25\n",
      "250/250 [==============================] - 37s 149ms/step - loss: 0.3851 - accuracy: 0.8242 - val_loss: 0.4621 - val_accuracy: 0.7880\n",
      "Epoch 16/25\n",
      "250/250 [==============================] - 39s 156ms/step - loss: 0.3693 - accuracy: 0.8346 - val_loss: 0.4586 - val_accuracy: 0.7900\n",
      "Epoch 17/25\n",
      "250/250 [==============================] - 37s 150ms/step - loss: 0.3588 - accuracy: 0.8432 - val_loss: 0.4622 - val_accuracy: 0.7995\n",
      "Epoch 18/25\n",
      "250/250 [==============================] - 38s 150ms/step - loss: 0.3511 - accuracy: 0.8450 - val_loss: 0.4999 - val_accuracy: 0.7795\n",
      "Epoch 19/25\n",
      "250/250 [==============================] - 37s 150ms/step - loss: 0.3251 - accuracy: 0.8549 - val_loss: 0.4652 - val_accuracy: 0.8055\n",
      "Epoch 20/25\n",
      "250/250 [==============================] - 38s 152ms/step - loss: 0.3157 - accuracy: 0.8655 - val_loss: 0.4963 - val_accuracy: 0.8010\n",
      "Epoch 21/25\n",
      "250/250 [==============================] - 38s 152ms/step - loss: 0.2995 - accuracy: 0.8699 - val_loss: 0.5371 - val_accuracy: 0.7830\n",
      "Epoch 22/25\n",
      "250/250 [==============================] - 38s 152ms/step - loss: 0.2953 - accuracy: 0.8726 - val_loss: 0.5159 - val_accuracy: 0.7900\n",
      "Epoch 23/25\n",
      "250/250 [==============================] - 37s 150ms/step - loss: 0.2760 - accuracy: 0.8844 - val_loss: 0.5216 - val_accuracy: 0.7970\n",
      "Epoch 24/25\n",
      "250/250 [==============================] - 38s 152ms/step - loss: 0.2564 - accuracy: 0.8923 - val_loss: 0.5592 - val_accuracy: 0.7915\n",
      "Epoch 25/25\n",
      "250/250 [==============================] - 38s 152ms/step - loss: 0.2614 - accuracy: 0.8867 - val_loss: 0.5565 - val_accuracy: 0.7945\n"
     ]
    },
    {
     "data": {
      "text/plain": [
       "<tensorflow.python.keras.callbacks.History at 0x1df69148d60>"
      ]
     },
     "execution_count": 9,
     "metadata": {},
     "output_type": "execute_result"
    }
   ],
   "source": [
    "# Running the model\n",
    "classifier.fit(\n",
    "        x = training_set,\n",
    "        epochs = 25,\n",
    "        validation_data = test_set)\n",
    "# steps_per_epoch=8000 // 32, Here 32 = batch_size\n",
    "# validation_steps=2000 // 32"
   ]
  },
  {
   "cell_type": "code",
   "execution_count": 13,
   "id": "unavailable-failing",
   "metadata": {},
   "outputs": [],
   "source": [
    "import numpy as np\n",
    "from keras.preprocessing import image\n",
    "test_image = image.load_img('dataset/single_prediction/cat_or_dog_2.jpg', target_size = (64, 64))\n",
    "test_image = image.img_to_array(test_image)\n",
    "test_image = np.expand_dims(test_image, axis = 0)\n",
    "result = classifier.predict(test_image)\n",
    "training_set.class_indices\n",
    "if result[0][0] == 1:\n",
    "  prediction = 'dog'\n",
    "else:\n",
    "  prediction = 'cat'"
   ]
  },
  {
   "cell_type": "code",
   "execution_count": 14,
   "id": "current-ethnic",
   "metadata": {},
   "outputs": [
    {
     "name": "stdout",
     "output_type": "stream",
     "text": [
      "cat\n"
     ]
    }
   ],
   "source": [
    "print(prediction)"
   ]
  },
  {
   "cell_type": "code",
   "execution_count": 15,
   "id": "rapid-footage",
   "metadata": {},
   "outputs": [
    {
     "name": "stdout",
     "output_type": "stream",
     "text": [
      "Model: \"sequential\"\n",
      "_________________________________________________________________\n",
      "Layer (type)                 Output Shape              Param #   \n",
      "=================================================================\n",
      "conv2d (Conv2D)              (None, 62, 62, 32)        896       \n",
      "_________________________________________________________________\n",
      "max_pooling2d (MaxPooling2D) (None, 31, 31, 32)        0         \n",
      "_________________________________________________________________\n",
      "conv2d_1 (Conv2D)            (None, 29, 29, 32)        9248      \n",
      "_________________________________________________________________\n",
      "max_pooling2d_1 (MaxPooling2 (None, 14, 14, 32)        0         \n",
      "_________________________________________________________________\n",
      "flatten (Flatten)            (None, 6272)              0         \n",
      "_________________________________________________________________\n",
      "dense (Dense)                (None, 128)               802944    \n",
      "_________________________________________________________________\n",
      "dense_1 (Dense)              (None, 1)                 129       \n",
      "=================================================================\n",
      "Total params: 813,217\n",
      "Trainable params: 813,217\n",
      "Non-trainable params: 0\n",
      "_________________________________________________________________\n"
     ]
    }
   ],
   "source": [
    "classifier.summary()"
   ]
  },
  {
   "cell_type": "code",
   "execution_count": null,
   "id": "discrete-melbourne",
   "metadata": {},
   "outputs": [],
   "source": []
  },
  {
   "cell_type": "code",
   "execution_count": null,
   "id": "passive-assignment",
   "metadata": {},
   "outputs": [],
   "source": []
  }
 ],
 "metadata": {
  "kernelspec": {
   "display_name": "Python 3",
   "language": "python",
   "name": "python3"
  },
  "language_info": {
   "codemirror_mode": {
    "name": "ipython",
    "version": 3
   },
   "file_extension": ".py",
   "mimetype": "text/x-python",
   "name": "python",
   "nbconvert_exporter": "python",
   "pygments_lexer": "ipython3",
   "version": "3.8.8"
  }
 },
 "nbformat": 4,
 "nbformat_minor": 5
}
