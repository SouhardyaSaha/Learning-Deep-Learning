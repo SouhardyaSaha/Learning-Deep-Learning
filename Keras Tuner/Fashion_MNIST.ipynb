{
 "cells": [
  {
   "cell_type": "code",
   "execution_count": 1,
   "metadata": {
    "id": "OmRiu1FsgBVT"
   },
   "outputs": [],
   "source": [
    "import tensorflow as tf\n",
    "from tensorflow import keras\n",
    "import numpy as np"
   ]
  },
  {
   "cell_type": "code",
   "execution_count": 2,
   "metadata": {
    "colab": {
     "base_uri": "https://localhost:8080/",
     "height": 35
    },
    "id": "cbIlEeNyjr3t",
    "outputId": "f635899d-fa1b-4523-e3a5-fed84c0b9e1d"
   },
   "outputs": [
    {
     "output_type": "execute_result",
     "data": {
      "text/plain": [
       "'/device:GPU:0'"
      ]
     },
     "metadata": {},
     "execution_count": 2
    }
   ],
   "source": [
    "tf.test.gpu_device_name()"
   ]
  },
  {
   "cell_type": "code",
   "execution_count": 3,
   "metadata": {},
   "outputs": [
    {
     "output_type": "stream",
     "name": "stdout",
     "text": [
      "WARNING:tensorflow:From <ipython-input-3-6b3844b3da86>:3: is_gpu_available (from tensorflow.python.framework.test_util) is deprecated and will be removed in a future version.\nInstructions for updating:\nUse `tf.config.list_physical_devices('GPU')` instead.\n"
     ]
    },
    {
     "output_type": "execute_result",
     "data": {
      "text/plain": [
       "True"
      ]
     },
     "metadata": {},
     "execution_count": 3
    }
   ],
   "source": [
    "# tf.config.list_physical_devices('GPU')\n",
    "# tf.test.is_built_with_cuda()\n",
    "tf.test.is_gpu_available()\n",
    "# tf.__version__\n"
   ]
  },
  {
   "cell_type": "code",
   "execution_count": 4,
   "metadata": {
    "id": "wjuROk_NkYDL"
   },
   "outputs": [],
   "source": [
    "fashion_mnist = keras.datasets.fashion_mnist"
   ]
  },
  {
   "cell_type": "code",
   "execution_count": 5,
   "metadata": {
    "id": "bg2OLLNAkvnD"
   },
   "outputs": [],
   "source": [
    "(train_images, train_labels), (test_images, test_labels) = fashion_mnist.load_data()"
   ]
  },
  {
   "cell_type": "code",
   "execution_count": 6,
   "metadata": {
    "id": "WzN1PNBPlFaK"
   },
   "outputs": [],
   "source": [
    "train_images = train_images/255.0\n",
    "test_images = test_images/255.0"
   ]
  },
  {
   "cell_type": "code",
   "execution_count": 7,
   "metadata": {
    "colab": {
     "base_uri": "https://localhost:8080/"
    },
    "id": "kQNRY3iWlYyV",
    "outputId": "9947cec1-854e-4ab9-aa2d-09b9b5cdce05"
   },
   "outputs": [
    {
     "output_type": "execute_result",
     "data": {
      "text/plain": [
       "(28, 28)"
      ]
     },
     "metadata": {},
     "execution_count": 7
    }
   ],
   "source": [
    "train_images[0].shape"
   ]
  },
  {
   "cell_type": "code",
   "execution_count": 8,
   "metadata": {
    "id": "p7zHEMC1Atvl"
   },
   "outputs": [],
   "source": [
    "train_images = train_images.reshape(len(train_images), 28,28,1)\n",
    "test_images = test_images.reshape(len(test_images), 28,28,1)"
   ]
  },
  {
   "cell_type": "code",
   "execution_count": 9,
   "metadata": {
    "id": "upcsfHpzlcwT"
   },
   "outputs": [],
   "source": [
    "def build_model(hp):\n",
    "  model = keras.Sequential([\n",
    "    keras.layers.Conv2D(\n",
    "        filters=hp.Int('conv_1_filter', min_value =32, max_value=128, step=16),\n",
    "        kernel_size=hp.Choice('conv_1_kernel', values = [3,5]),\n",
    "        activation='relu',\n",
    "        input_shape=(28,28,1)\n",
    "    ),\n",
    "    keras.layers.Conv2D(\n",
    "        filters=hp.Int('conv_2_filter', min_value =32, max_value=64, step=16),\n",
    "        kernel_size=hp.Choice('conv_2_kernel', values = [3,5]),\n",
    "        activation='relu',\n",
    "    ),\n",
    "    keras.layers.Flatten(),\n",
    "    keras.layers.Dense(\n",
    "        units=hp.Int('dense_1_units', min_value =32, max_value=128, step=16),\n",
    "        activation='relu',\n",
    "    ),\n",
    "    keras.layers.Dense(10, 'softmax')\n",
    "  ])\n",
    "\n",
    "  model.compile(\n",
    "      optimizer=keras.optimizers.Adam(hp.Choice('learning_rate', values=[1e-2, 1e-3])),\n",
    "      loss = keras.losses.sparse_categorical_crossentropy,\n",
    "      # loss='sparse_categorical_crossentropy', \n",
    "      metrics=['accuracy']\n",
    "  )\n",
    "\n",
    "  return model"
   ]
  },
  {
   "cell_type": "code",
   "execution_count": 10,
   "metadata": {
    "id": "2XFviri7mb2D"
   },
   "outputs": [],
   "source": [
    "from kerastuner.tuners import RandomSearch\n",
    "from kerastuner.engine.hyperparameters import HyperParameters"
   ]
  },
  {
   "cell_type": "code",
   "execution_count": 11,
   "metadata": {
    "colab": {
     "base_uri": "https://localhost:8080/"
    },
    "id": "YJnf-Ixdmvyr",
    "outputId": "595463ce-c8be-4642-877a-8387988c3a95"
   },
   "outputs": [
    {
     "output_type": "stream",
     "name": "stdout",
     "text": [
      "INFO:tensorflow:Reloading Oracle from existing project output\\Mnist Fashion\\oracle.json\n"
     ]
    }
   ],
   "source": [
    "# The Output folder must be deleted\n",
    "tuner = RandomSearch(\n",
    "    build_model, \n",
    "    objective='val_accuracy', \n",
    "    max_trials=5, \n",
    "    directory='output', \n",
    "    project_name='Mnist Fashion'\n",
    "    )"
   ]
  },
  {
   "cell_type": "code",
   "execution_count": 12,
   "metadata": {
    "colab": {
     "base_uri": "https://localhost:8080/"
    },
    "id": "OmFCXtkb_nty",
    "outputId": "c011b399-93f3-47f3-8b7b-0dd7c094b15f"
   },
   "outputs": [
    {
     "output_type": "stream",
     "name": "stdout",
     "text": [
      "Trial 5 Complete [00h 01m 25s]\nval_accuracy: 0.8611666560173035\n\nBest val_accuracy So Far: 0.9085000157356262\nTotal elapsed time: 00h 06m 21s\nINFO:tensorflow:Oracle triggered exit\n"
     ]
    }
   ],
   "source": [
    "tuner.search(train_images, train_labels, epochs=3, validation_split=0.1)"
   ]
  },
  {
   "cell_type": "code",
   "execution_count": 13,
   "metadata": {
    "id": "zDpgRrjsAYo7"
   },
   "outputs": [],
   "source": [
    "model=tuner.get_best_models(num_models=1)[0]"
   ]
  },
  {
   "cell_type": "code",
   "execution_count": 14,
   "metadata": {
    "colab": {
     "base_uri": "https://localhost:8080/"
    },
    "id": "PYATciiwC3qU",
    "outputId": "4605d97f-916a-474b-b15f-c52128b95f09"
   },
   "outputs": [
    {
     "output_type": "stream",
     "name": "stdout",
     "text": [
      "Model: \"sequential\"\n_________________________________________________________________\nLayer (type)                 Output Shape              Param #   \n=================================================================\nconv2d (Conv2D)              (None, 26, 26, 112)       1120      \n_________________________________________________________________\nconv2d_1 (Conv2D)            (None, 22, 22, 48)        134448    \n_________________________________________________________________\nflatten (Flatten)            (None, 23232)             0         \n_________________________________________________________________\ndense (Dense)                (None, 96)                2230368   \n_________________________________________________________________\ndense_1 (Dense)              (None, 10)                970       \n=================================================================\nTotal params: 2,366,906\nTrainable params: 2,366,906\nNon-trainable params: 0\n_________________________________________________________________\n"
     ]
    }
   ],
   "source": [
    "model.summary()"
   ]
  },
  {
   "cell_type": "code",
   "execution_count": 15,
   "metadata": {
    "colab": {
     "base_uri": "https://localhost:8080/"
    },
    "id": "TFqQiaLfC5zh",
    "outputId": "e29d69ea-c7ae-4d9e-ead6-de1f426243a4"
   },
   "outputs": [
    {
     "output_type": "stream",
     "name": "stdout",
     "text": [
      "Epoch 4/10\n",
      "1688/1688 [==============================] - 29s 17ms/step - loss: 0.1367 - accuracy: 0.9493 - val_loss: 0.2774 - val_accuracy: 0.9042\n",
      "Epoch 5/10\n",
      "1688/1688 [==============================] - 26s 15ms/step - loss: 0.0947 - accuracy: 0.9650 - val_loss: 0.2687 - val_accuracy: 0.9122\n",
      "Epoch 6/10\n",
      "1688/1688 [==============================] - 27s 16ms/step - loss: 0.0617 - accuracy: 0.9771 - val_loss: 0.3537 - val_accuracy: 0.9082\n",
      "Epoch 7/10\n",
      "1688/1688 [==============================] - 27s 16ms/step - loss: 0.0427 - accuracy: 0.9839 - val_loss: 0.3818 - val_accuracy: 0.9138\n",
      "Epoch 8/10\n",
      "1688/1688 [==============================] - 27s 16ms/step - loss: 0.0350 - accuracy: 0.9877 - val_loss: 0.4830 - val_accuracy: 0.9078\n",
      "Epoch 9/10\n",
      "1688/1688 [==============================] - 28s 16ms/step - loss: 0.0271 - accuracy: 0.9908 - val_loss: 0.4709 - val_accuracy: 0.9088\n",
      "Epoch 10/10\n",
      "1688/1688 [==============================] - 28s 16ms/step - loss: 0.0218 - accuracy: 0.9928 - val_loss: 0.5132 - val_accuracy: 0.9082\n"
     ]
    },
    {
     "output_type": "execute_result",
     "data": {
      "text/plain": [
       "<tensorflow.python.keras.callbacks.History at 0x10a6cc6f6d0>"
      ]
     },
     "metadata": {},
     "execution_count": 15
    }
   ],
   "source": [
    "model.fit(train_images, train_labels, epochs=10, validation_split=0.1, initial_epoch=3)"
   ]
  },
  {
   "cell_type": "code",
   "execution_count": 16,
   "metadata": {
    "colab": {
     "base_uri": "https://localhost:8080/"
    },
    "id": "hWeF9ta9C-Gx",
    "outputId": "b4f6f114-89cd-4d13-ca05-e91f490d31da"
   },
   "outputs": [
    {
     "output_type": "execute_result",
     "data": {
      "text/plain": [
       "<tensorflow.python.keras.engine.sequential.Sequential at 0x10a6ca11d90>"
      ]
     },
     "metadata": {},
     "execution_count": 16
    }
   ],
   "source": [
    "model"
   ]
  },
  {
   "cell_type": "code",
   "execution_count": null,
   "metadata": {
    "colab": {
     "base_uri": "https://localhost:8080/"
    },
    "id": "GZT6HPBCNNXJ",
    "outputId": "0d6d6da2-4d07-454b-d0e8-a2c7be90c861"
   },
   "outputs": [],
   "source": [
    "model.summary()"
   ]
  },
  {
   "cell_type": "code",
   "execution_count": null,
   "metadata": {
    "id": "kUi8EMiHNQ--"
   },
   "outputs": [],
   "source": []
  }
 ],
 "metadata": {
  "accelerator": "GPU",
  "colab": {
   "collapsed_sections": [],
   "name": "Keras Tuner (Fashion MNIST).ipynb",
   "provenance": []
  },
  "kernelspec": {
   "name": "python388jvsc74a57bd01f584d1f2099a3b6b1aabed6fa6c4f9531bcc1f97f929a8d4f3fbf52265911e6",
   "display_name": "Python 3.8.8 64-bit ('myenv': conda)"
  },
  "language_info": {
   "codemirror_mode": {
    "name": "ipython",
    "version": 3
   },
   "file_extension": ".py",
   "mimetype": "text/x-python",
   "name": "python",
   "nbconvert_exporter": "python",
   "pygments_lexer": "ipython3",
   "version": "3.8.8-final"
  },
  "metadata": {
   "interpreter": {
    "hash": "1f584d1f2099a3b6b1aabed6fa6c4f9531bcc1f97f929a8d4f3fbf52265911e6"
   }
  }
 },
 "nbformat": 4,
 "nbformat_minor": 1
}